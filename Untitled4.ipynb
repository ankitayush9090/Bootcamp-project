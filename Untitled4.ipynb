{
  "nbformat": 4,
  "nbformat_minor": 0,
  "metadata": {
    "colab": {
      "name": "Untitled4.ipynb",
      "provenance": []
    },
    "kernelspec": {
      "name": "python3",
      "display_name": "Python 3"
    },
    "language_info": {
      "name": "python"
    }
  },
  "cells": [
    {
      "cell_type": "code",
      "metadata": {
        "colab": {
          "base_uri": "https://localhost:8080/"
        },
        "id": "08Uzc-xWsIJz",
        "outputId": "1f19ec10-5663-4be7-a9db-bfc6dc842339"
      },
      "source": [
        "val = input(\"Enter your name or any things for ecode : \")\n",
        "\n",
        "# Python 3 code to demonstrate the \n",
        "# working of MD5 (string - hexadecimal)\n",
        "  \n",
        "import hashlib\n",
        "  \n",
        "\n",
        "  \n",
        "\n",
        "# then sending to md5()\n",
        "result = hashlib.md5(val.encode())\n",
        "  \n",
        "# printing the equivalent hexadecimal value.\n",
        "print(\"The hexadecimal equivalent of hash is : \", end =\"\")\n",
        "print(result.hexdigest())"
      ],
      "execution_count": 2,
      "outputs": [
        {
          "output_type": "stream",
          "text": [
            "Enter your name or any things for ecode : ghfghybg\n",
            "The hexadecimal equivalent of hash is : f04e1d180cf6bcb2e3ec4d33c7b0da58\n"
          ],
          "name": "stdout"
        }
      ]
    }
  ]
}